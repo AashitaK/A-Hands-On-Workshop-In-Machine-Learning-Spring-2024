{
 "cells": [
  {
   "cell_type": "markdown",
   "id": "6c6f6512",
   "metadata": {},
   "source": [
    "Let us revise what we learned in the last session.\n",
    "* Cross-entropy loss for multi-class problems\n",
    "* Softmax activation function\n",
    "* Vanishing gradients\n",
    "* ReLU, Leaky ReLU, ELU activation functions\n",
    "* Dead neurons\n",
    "* Weight initialization\n",
    "* Dropout and Regularization\n",
    "* Bag-Of-Words (BOW) method for textual data:\n",
    "    * Count vectorization\n",
    "    * TFIDF (Term Frequency Inverse Document Frequency) vectorization"
   ]
  },
  {
   "cell_type": "code",
   "execution_count": null,
   "id": "930d9dd0",
   "metadata": {},
   "outputs": [],
   "source": []
  }
 ],
 "metadata": {
  "kernelspec": {
   "display_name": "Python 3 (ipykernel)",
   "language": "python",
   "name": "python3"
  },
  "language_info": {
   "codemirror_mode": {
    "name": "ipython",
    "version": 3
   },
   "file_extension": ".py",
   "mimetype": "text/x-python",
   "name": "python",
   "nbconvert_exporter": "python",
   "pygments_lexer": "ipython3",
   "version": "3.10.10"
  }
 },
 "nbformat": 4,
 "nbformat_minor": 5
}
