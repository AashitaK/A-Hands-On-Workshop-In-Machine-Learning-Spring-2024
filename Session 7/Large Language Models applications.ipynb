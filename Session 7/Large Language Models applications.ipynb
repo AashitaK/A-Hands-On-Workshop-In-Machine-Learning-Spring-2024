{
 "cells": [
  {
   "cell_type": "markdown",
   "id": "dbfb80f0",
   "metadata": {},
   "source": [
    "### Large Language Models\n",
    "\n",
    "Generative AI models such as GPT-4 and other similar models use decoder-only transformer model architecture. They are trained on a large corpus and are rumored to have trillions of parameters. Many of these models are closed sourced but have been made available via APIs.\n",
    "\n",
    "[HuggingFace](https://huggingface.co/models) is a great place to find open source models. You can use models hosted on their platforms using their [huggingface python library](https://huggingface.co/docs/huggingface_hub/index).\n",
    "\n",
    "[Gradio](https://www.gradio.app/guides/quickstart) is a great place to host your demo machine learning projects/apps for free.\n",
    "\n",
    "Prompt engineering can be especially useful while using LLMs for building apps. For example, Open AI (the company that released GPT models) has shared some [strategies and tactics](https://platform.openai.com/docs/guides/prompt-engineering) to make the most out of their LLM models.\n",
    "\n",
    "Two techniques for using LLM models for question-answering tasks (such as an AI chatbot):\n",
    "* Fine-Tuning the models\n",
    "* RAG (Retrieval-Augmented Generation)\n",
    "\n",
    "We will learn more about both via our exercises."
   ]
  },
  {
   "cell_type": "code",
   "execution_count": null,
   "id": "0053fbd1",
   "metadata": {},
   "outputs": [],
   "source": []
  }
 ],
 "metadata": {
  "kernelspec": {
   "display_name": "Python 3 (ipykernel)",
   "language": "python",
   "name": "python3"
  },
  "language_info": {
   "codemirror_mode": {
    "name": "ipython",
    "version": 3
   },
   "file_extension": ".py",
   "mimetype": "text/x-python",
   "name": "python",
   "nbconvert_exporter": "python",
   "pygments_lexer": "ipython3",
   "version": "3.10.9"
  }
 },
 "nbformat": 4,
 "nbformat_minor": 5
}
