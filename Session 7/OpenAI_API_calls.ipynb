{
  "cells": [
    {
      "cell_type": "code",
      "source": [
        "pip install openai==0.28"
      ],
      "metadata": {
        "id": "8JM7x1chAKQb",
        "outputId": "74be4640-749c-4730-fe4f-163d6a7fe645",
        "colab": {
          "base_uri": "https://localhost:8080/",
          "height": 508
        }
      },
      "id": "8JM7x1chAKQb",
      "execution_count": 8,
      "outputs": [
        {
          "output_type": "stream",
          "name": "stdout",
          "text": [
            "Collecting openai==0.28\n",
            "  Downloading openai-0.28.0-py3-none-any.whl (76 kB)\n",
            "\u001b[2K     \u001b[90m━━━━━━━━━━━━━━━━━━━━━━━━━━━━━━━━━━━━━━━━\u001b[0m \u001b[32m76.5/76.5 kB\u001b[0m \u001b[31m2.1 MB/s\u001b[0m eta \u001b[36m0:00:00\u001b[0m\n",
            "\u001b[?25hRequirement already satisfied: requests>=2.20 in /usr/local/lib/python3.10/dist-packages (from openai==0.28) (2.31.0)\n",
            "Requirement already satisfied: tqdm in /usr/local/lib/python3.10/dist-packages (from openai==0.28) (4.66.2)\n",
            "Requirement already satisfied: aiohttp in /usr/local/lib/python3.10/dist-packages (from openai==0.28) (3.9.3)\n",
            "Requirement already satisfied: charset-normalizer<4,>=2 in /usr/local/lib/python3.10/dist-packages (from requests>=2.20->openai==0.28) (3.3.2)\n",
            "Requirement already satisfied: idna<4,>=2.5 in /usr/local/lib/python3.10/dist-packages (from requests>=2.20->openai==0.28) (3.6)\n",
            "Requirement already satisfied: urllib3<3,>=1.21.1 in /usr/local/lib/python3.10/dist-packages (from requests>=2.20->openai==0.28) (2.0.7)\n",
            "Requirement already satisfied: certifi>=2017.4.17 in /usr/local/lib/python3.10/dist-packages (from requests>=2.20->openai==0.28) (2024.2.2)\n",
            "Requirement already satisfied: aiosignal>=1.1.2 in /usr/local/lib/python3.10/dist-packages (from aiohttp->openai==0.28) (1.3.1)\n",
            "Requirement already satisfied: attrs>=17.3.0 in /usr/local/lib/python3.10/dist-packages (from aiohttp->openai==0.28) (23.2.0)\n",
            "Requirement already satisfied: frozenlist>=1.1.1 in /usr/local/lib/python3.10/dist-packages (from aiohttp->openai==0.28) (1.4.1)\n",
            "Requirement already satisfied: multidict<7.0,>=4.5 in /usr/local/lib/python3.10/dist-packages (from aiohttp->openai==0.28) (6.0.5)\n",
            "Requirement already satisfied: yarl<2.0,>=1.0 in /usr/local/lib/python3.10/dist-packages (from aiohttp->openai==0.28) (1.9.4)\n",
            "Requirement already satisfied: async-timeout<5.0,>=4.0 in /usr/local/lib/python3.10/dist-packages (from aiohttp->openai==0.28) (4.0.3)\n",
            "Installing collected packages: openai\n",
            "  Attempting uninstall: openai\n",
            "    Found existing installation: openai 1.20.0\n",
            "    Uninstalling openai-1.20.0:\n",
            "      Successfully uninstalled openai-1.20.0\n",
            "Successfully installed openai-0.28.0\n"
          ]
        },
        {
          "output_type": "display_data",
          "data": {
            "application/vnd.colab-display-data+json": {
              "pip_warning": {
                "packages": [
                  "openai"
                ]
              },
              "id": "7a478d31c53746bb8cb81c95781f83e9"
            }
          },
          "metadata": {}
        }
      ]
    },
    {
      "cell_type": "code",
      "execution_count": 16,
      "id": "cf2ef700",
      "metadata": {
        "id": "cf2ef700"
      },
      "outputs": [],
      "source": [
        "import warnings\n",
        "warnings.filterwarnings(\"ignore\")\n",
        "\n",
        "import openai\n",
        "import os\n",
        "\n",
        "openai.api_key = \"sk-proj-nFkU6ecJjbpWoLHM6vlZT3BlbkFJpOAMXKcDBVppXrT1GpHb\" # This key will expire after the workshop"
      ]
    },
    {
      "cell_type": "code",
      "execution_count": 17,
      "id": "a2a8ee3f",
      "metadata": {
        "id": "a2a8ee3f"
      },
      "outputs": [],
      "source": [
        "def answer_query(\n",
        "    prompt: str,\n",
        "    system_message: str = None,\n",
        "    COMPLETIONS_MODEL = \"gpt-4\") -> str:\n",
        "\n",
        "    if system_message is None:\n",
        "        system_message = \"You're a helpful assistant.\"\n",
        "\n",
        "    response = openai.ChatCompletion.create(\n",
        "        model = COMPLETIONS_MODEL,\n",
        "        messages = [\n",
        "        {\"role\": \"system\", \"content\": system_message},\n",
        "        {\"role\": \"user\", \"content\": prompt}\n",
        "        ]\n",
        "    )\n",
        "\n",
        "    print(response[\"choices\"][0][\"message\"][\"content\"])\n",
        "\n",
        "    return response\n"
      ]
    },
    {
      "cell_type": "code",
      "execution_count": 18,
      "id": "ef0e048e",
      "metadata": {
        "id": "ef0e048e",
        "outputId": "94cf65f7-6cc7-4840-807e-fe086493c0de",
        "colab": {
          "base_uri": "https://localhost:8080/"
        }
      },
      "outputs": [
        {
          "output_type": "stream",
          "name": "stdout",
          "text": [
            "There are 50 states in the United States.\n"
          ]
        }
      ],
      "source": [
        "response = answer_query(\"How many states are there in the US?\")"
      ]
    },
    {
      "cell_type": "code",
      "execution_count": null,
      "id": "48f4d2a3",
      "metadata": {
        "id": "48f4d2a3",
        "outputId": "e5209c06-dca0-48c5-eba2-8dfb8eeb6969"
      },
      "outputs": [
        {
          "data": {
            "text/plain": [
              "<OpenAIObject chat.completion id=chatcmpl-9EiyLFSKGFWVOomUq9liA91Dqn8Gj at 0x7fb892085710> JSON: {\n",
              "  \"choices\": [\n",
              "    {\n",
              "      \"finish_reason\": \"stop\",\n",
              "      \"index\": 0,\n",
              "      \"logprobs\": null,\n",
              "      \"message\": {\n",
              "        \"content\": \"There are 50 states in the US.\",\n",
              "        \"role\": \"assistant\"\n",
              "      }\n",
              "    }\n",
              "  ],\n",
              "  \"created\": 1713296493,\n",
              "  \"id\": \"chatcmpl-9EiyLFSKGFWVOomUq9liA91Dqn8Gj\",\n",
              "  \"model\": \"gpt-4-0613\",\n",
              "  \"object\": \"chat.completion\",\n",
              "  \"system_fingerprint\": null,\n",
              "  \"usage\": {\n",
              "    \"completion_tokens\": 9,\n",
              "    \"prompt_tokens\": 26,\n",
              "    \"total_tokens\": 35\n",
              "  }\n",
              "}"
            ]
          },
          "execution_count": 16,
          "metadata": {},
          "output_type": "execute_result"
        }
      ],
      "source": [
        "response"
      ]
    },
    {
      "cell_type": "code",
      "execution_count": null,
      "id": "5e9d3982",
      "metadata": {
        "id": "5e9d3982",
        "outputId": "b347391b-a8e4-4941-89d1-271f8396f801"
      },
      "outputs": [
        {
          "name": "stdout",
          "output_type": "stream",
          "text": [
            "Good morning\n"
          ]
        }
      ],
      "source": [
        "response2 = answer_query(prompt=\"शुभ प्रभात\",\n",
        "    system_message=\"You're a helpful assistant. Please translate the text to English.\")"
      ]
    },
    {
      "cell_type": "code",
      "execution_count": null,
      "id": "7418f83b",
      "metadata": {
        "id": "7418f83b"
      },
      "outputs": [],
      "source": []
    },
    {
      "cell_type": "code",
      "execution_count": null,
      "id": "ee97221b",
      "metadata": {
        "id": "ee97221b"
      },
      "outputs": [],
      "source": []
    },
    {
      "cell_type": "code",
      "execution_count": null,
      "id": "888c3858",
      "metadata": {
        "id": "888c3858"
      },
      "outputs": [],
      "source": []
    }
  ],
  "metadata": {
    "kernelspec": {
      "display_name": "Python 3 (ipykernel)",
      "language": "python",
      "name": "python3"
    },
    "language_info": {
      "codemirror_mode": {
        "name": "ipython",
        "version": 3
      },
      "file_extension": ".py",
      "mimetype": "text/x-python",
      "name": "python",
      "nbconvert_exporter": "python",
      "pygments_lexer": "ipython3",
      "version": "3.10.9"
    },
    "colab": {
      "provenance": []
    }
  },
  "nbformat": 4,
  "nbformat_minor": 5
}